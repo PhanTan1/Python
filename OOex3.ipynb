{
 "cells": [
  {
   "cell_type": "markdown",
   "id": "b590da50",
   "metadata": {},
   "source": [
    "Nous désirons effectuer la gestion d’une animalerie. Cette dernière s’occupe de plusieurs types d’animaux : chiens, chats,\n",
    "oiseaux… (laissez libre cours à votre imagination !)\n",
    "Pour chaque animal, l’animalerie doit connaitre : son nom, son poids, sa taille, son sexe, son âge, son âge humain équivalent et\n",
    "sa date d’arrivée à l’animalerie. Tous les animaux possèdent le comportement crier().\n",
    "Les chats doivent également être caractérisés par leur caractère (énergique, farouche, câlin, etc.), si leurs griffes ont été\n",
    "coupées et s’il s’agit d’un chat à poil long ou non. Pour les chats, la probabilité de décès est de 0,5%.\n",
    "Les chiens doivent être caractérisés par la couleur de leur collier, s’il a été dressé et sa race. Pour les chiens, la probabilité de\n",
    "décès est de 1%.\n",
    "Les oiseaux, quant à eux, sont caractérisés par leur couleur et s’ils doivent vivre dans une volière ou dans une petite cage. Pour\n",
    "ces derniers, la probabilité de décès est de 3%.\n",
    "Le programme de gestion doit :\n",
    "– Encoder des animaux (chiens, chats, oiseaux)\n",
    "– Lister les caractéristiques de tous les animaux encodés.\n",
    "– Afficher le nombre de chats, de chiens et d’oiseaux\n",
    "– Vérifier si certains animaux ne sont pas décédés durant la nuit."
   ]
  },
  {
   "cell_type": "code",
   "execution_count": null,
   "id": "0d7a540d",
   "metadata": {},
   "outputs": [],
   "source": [
    "import random\n",
    "\n",
    "class Animal:\n",
    "    def __init__(self\n",
    "                , name\n",
    "                , weight\n",
    "                , height\n",
    "                , gender\n",
    "                , age\n",
    "                ,arrival_date\n",
    "                ,death_probability\n",
    "                ,status = \"Alive\"):\n",
    "\n",
    "        self.__name = name\n",
    "        self.weight = weight\n",
    "        self.height = height\n",
    "        self.__gender = gender\n",
    "        self.age = age\n",
    "        self.__gender = gender\n",
    "        self.__arrival_date = arrival_date\n",
    "        self.__death_proability = death_probability\n",
    "        self._status = status\n",
    "\n",
    "    @property\n",
    "    def gender(self):\n",
    "        return self.__gender\n",
    "\n",
    "    @property\n",
    "    def name(self):\n",
    "        return self.__name\n",
    "\n",
    "    @property\n",
    "    def arrival_date(self):\n",
    "        return self.__arrival_date\n",
    "    \n",
    "    @property\n",
    "    def death_probability(self):\n",
    "        return self.__death_proability\n",
    "    \n",
    "    @property\n",
    "    def status(self):\n",
    "        return self._status\n",
    "\n",
    "    def shout(self):\n",
    "        print(\"Shout\")\n",
    "\n",
    "    def __repr__(self):\n",
    "        return (f\"Animal(name={self.name}, weight={self.weight}, height={self.height}, \"\n",
    "                f\"gender={self.gender}, age={self.age}, arrival_date={self.arrival_date}, \"\n",
    "                f\"death_probability={self.death_probability}, status={self.status})\")\n",
    "\n",
    "    def night(self):\n",
    "        if self._status ==\"dead\":\n",
    "            print(f\"{self.name} is already dead\")\n",
    "            return\n",
    "        \n",
    "        chance = random.random()\n",
    "        if chance <  self.death_probability:\n",
    "            self._status = \"dead\"\n",
    "            print(f\"{self.name} has died during the night\")\n",
    "        else:\n",
    "            print(f\"{self.name} survived the night\")"
   ]
  },
  {
   "cell_type": "code",
   "execution_count": null,
   "id": "0f558e25",
   "metadata": {},
   "outputs": [],
   "source": [
    "class Dog (Animal):\n",
    "    count= 0\n",
    "    def __init__(self, name, weight, height, gender, age, arrival_date,collar_color, trained, breed, death_probability=0.01):\n",
    "        super().__init__(name, weight, height, gender, age, arrival_date, death_probability)\n",
    "        Dog.count +=1\n",
    "\n",
    "        self.collar_color = collar_color\n",
    "        self.trained = trained\n",
    "        self.__breed = breed\n",
    "\n",
    "        @property\n",
    "        def collar_color(self):\n",
    "            return self.collar_color\n",
    "        \n",
    "        @property\n",
    "        def trained(self):\n",
    "            return self.trained\n",
    "        \n",
    "        @property\n",
    "        def breed(self):\n",
    "            return self.__breed\n",
    "\n",
    "    def shout(self):\n",
    "        print(\"Bark\")\n",
    "\n",
    "    def night(self):\n",
    "        if self.status == \"alive\":\n",
    "            chance = random.random()\n",
    "            if chance < self.death_probability:\n",
    "                self.status = \"dead\"\n",
    "                Dog.count -= 1  \n",
    "                print(f\"{self.name} the dog has died during the night.\")\n",
    "            else:\n",
    "                print(f\"{self.name} the dog survived the night.\")\n",
    "        else:\n",
    "            print(f\"{self.name} is already dead.\")\n"
   ]
  },
  {
   "cell_type": "code",
   "execution_count": 49,
   "id": "d917bbdb",
   "metadata": {},
   "outputs": [
    {
     "name": "stdout",
     "output_type": "stream",
     "text": [
      "Bark\n",
      "Hector survived the night\n",
      "Status: Alive\n",
      "Hector survived the night\n",
      "Status: Alive\n",
      "Hector survived the night\n",
      "Status: Alive\n",
      "Hector survived the night\n",
      "Status: Alive\n",
      "Hector survived the night\n",
      "Status: Alive\n",
      "Hector\n"
     ]
    }
   ],
   "source": [
    "a= Dog(\"Hector\", 30, 84,\"M\", 16, 2024-11-11, \"red\",True, \"Akita\" )\n",
    "\n",
    "a.shout()\n",
    "\n",
    "for x in range(5):\n",
    "    a.night()\n",
    "    print(\"Status:\", a.status)\n",
    "\n",
    "print(a.name)"
   ]
  },
  {
   "cell_type": "code",
   "execution_count": null,
   "id": "7f35431d",
   "metadata": {},
   "outputs": [],
   "source": [
    "class Cat(Animal):\n",
    "    count = 0\n",
    "    def __init__(self, name, weight, height, gender, age, arrival_date, personnality, claw, fur, death_probability=0.005):\n",
    "        super().__init__(name, weight, height, gender, age, arrival_date, death_probability)\n",
    "        self.__personnality = personnality\n",
    "        self.__fur = fur\n",
    "        self.claw = claw\n",
    "        Cat.count+=1\n",
    "        \n",
    "    def shout(self):\n",
    "        print(\"Miaou\")\n",
    "\n",
    "    def night(self):\n",
    "        if self.status == \"alive\":\n",
    "            chance = random.random()\n",
    "            if chance < self.death_probability:\n",
    "                self.status = \"dead\"\n",
    "                Cat.count -= 1  \n",
    "                print(f\"{self.name} the cat has died during the night.\")\n",
    "            else:\n",
    "                print(f\"{self.name} the cat survived the night.\")\n",
    "        else:\n",
    "            print(f\"{self.name} is already dead.\")\n",
    "    \n",
    "    "
   ]
  },
  {
   "cell_type": "code",
   "execution_count": 65,
   "id": "e5aec8c7",
   "metadata": {},
   "outputs": [
    {
     "name": "stdout",
     "output_type": "stream",
     "text": [
      "Animal(name=Willy, weight=4, height=32, gender=F, age=3, arrival_date=1999, death_probability=0.005, status=Alive)\n",
      "{'_Animal__name': 'Willy', 'weight': 4, 'height': 32, '_Animal__gender': 'F', 'age': 3, '_Animal__arrival_date': 1999, '_Animal__death_proability': 0.005, '_status': 'Alive', '_Cat__personnality': 'Playful', '_Cat__fur': 'Short', 'claw': True}\n"
     ]
    }
   ],
   "source": [
    "c = Cat(\"Willy\", 4, 32, \"F\", 3, 2023-12-12, \"Playful\", True, \"Short\")\n",
    "\n",
    "print(c)\n",
    "print(c.__dict__)"
   ]
  },
  {
   "cell_type": "code",
   "execution_count": null,
   "id": "25a87213",
   "metadata": {},
   "outputs": [],
   "source": [
    "class Bird(Animal):\n",
    "    count=0\n",
    "    def __init__(self, name, weight, height, gender, age, arrival_date, color, house_type, death_probability=0.03,):\n",
    "        super().__init__(name, weight, height, gender, age, arrival_date, death_probability)\n",
    "        Bird.count +=1\n",
    "        self.__color = color\n",
    "        self.__house_type = house_type\n",
    "\n",
    "    def shout(self):\n",
    "        print(\"piu piu\")\n",
    "        \n",
    "    @property\n",
    "    def color(self):\n",
    "        return self.__color\n",
    "        \n",
    "    @property\n",
    "    def house_type(self):\n",
    "        return self.__house_type\n",
    "    \n",
    "    def night(self):\n",
    "        if self.status == \"alive\":\n",
    "            chance = random.random()\n",
    "            if chance < self.death_probability:\n",
    "                self.status = \"dead\"\n",
    "                Bird.count -= 1  \n",
    "                print(f\"{self.name} the bird has died during the night.\")\n",
    "            else:\n",
    "                print(f\"{self.name} the bird survived the night.\")\n",
    "        else:\n",
    "            print(f\"{self.name} is already dead.\")\n",
    "        \n",
    "        \n",
    "    "
   ]
  },
  {
   "cell_type": "code",
   "execution_count": 53,
   "id": "ba9349aa",
   "metadata": {},
   "outputs": [
    {
     "name": "stdout",
     "output_type": "stream",
     "text": [
      "{'_Animal__name': 'Titi', 'weight': 0.4, 'height': 4, '_Animal__gender': 'F', 'age': 1, '_Animal__arrival_date': 2007, '_Animal__death_proability': 0.03, '_status': 'Alive', '_Bird__color': 'Yellow', '_Bird__house_type': 'Cage'}\n"
     ]
    }
   ],
   "source": [
    "d = Bird(\"Titi\", 0.4, 4, \"F\",1, 2025-6-12, \"Yellow\", \"Cage\")\n",
    "print(d.__dict__)\n"
   ]
  }
 ],
 "metadata": {
  "kernelspec": {
   "display_name": "data_engineer",
   "language": "python",
   "name": "python3"
  },
  "language_info": {
   "codemirror_mode": {
    "name": "ipython",
    "version": 3
   },
   "file_extension": ".py",
   "mimetype": "text/x-python",
   "name": "python",
   "nbconvert_exporter": "python",
   "pygments_lexer": "ipython3",
   "version": "3.12.11"
  }
 },
 "nbformat": 4,
 "nbformat_minor": 5
}
