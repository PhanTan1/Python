{
 "cells": [
  {
   "cell_type": "code",
   "execution_count": 40,
   "id": "2909ca32",
   "metadata": {},
   "outputs": [],
   "source": [
    "class Personne:\n",
    "    def __init__(self, firstName, lastName):\n",
    "        self.firstName = firstName\n",
    "        self.lastName = lastName\n",
    "    \n",
    "    def participate(self,cours):\n",
    "        print(self.firstName, \"va au cour de\", cours)\n",
    "\n",
    "    def __repr__(self):\n",
    "        return f\"{self.firstName} {self.lastName}\"\n",
    "\n",
    "\n",
    "class Professeur(Personne):\n",
    "    def __init__(self, firstName, lastName, age):\n",
    "        super().__init__(firstName, lastName)\n",
    "        self.__age = age\n",
    "        self.cours_enseignes =[]\n",
    "\n",
    "    def participate(self, cours):\n",
    "        print(self.lastName, \"enseigne le cours de \", cours)\n",
    "    \n",
    "    def enseigne(self, cours):\n",
    "        self.cours_enseignes.append(cours)\n",
    "        \n",
    "\n",
    "    \n",
    "class Etudiant(Personne):\n",
    "    def __init__(self, firstName, lastName, dateNaissance):\n",
    "        super().__init__(firstName, lastName)\n",
    "        self.__dateNaissance = dateNaissance\n",
    "        self.matricule = lastName[:3] + firstName[:3]\n",
    "\n",
    "    def skip(self, cours):\n",
    "        print(self.lastName, \"esquive le cours de \", cours)\n",
    "\n",
    "class Room:\n",
    "    def __init__(self, capacity):\n",
    "        self.capacity = capacity\n",
    "        self.list_room = []\n",
    "\n",
    "    def show_capacity(self):\n",
    "        print(self.capacity)\n",
    "\n",
    "    def add(self, personne):\n",
    "        self.list_room.append(personne)\n",
    "        self.capacity -=1\n",
    "\n",
    "    def remove(self, personne):    \n",
    "        self.list_room.remove(personne)\n",
    "        self.capacity +=1\n",
    "\n",
    "    def empty(self):\n",
    "        self.list_room.clear()\n",
    "    \n",
    "    def __repr__(self):\n",
    "        return f\"Room(capacity={self.capacity}, occupants={self.list_room})\"\n",
    "    "
   ]
  },
  {
   "cell_type": "code",
   "execution_count": 41,
   "id": "e2158fcf",
   "metadata": {},
   "outputs": [
    {
     "name": "stdout",
     "output_type": "stream",
     "text": [
      "DouVal\n",
      "Valentin va au cour de physique\n",
      "23\n",
      "Room(capacity=23, occupants=[Marc Demarets, Valentin Douj])\n",
      "Room(capacity=24, occupants=[Marc Demarets])\n"
     ]
    }
   ],
   "source": [
    "a = Etudiant(\"Valentin\", \"Douj\", 1990-10-8)\n",
    "print(a.matricule)\n",
    "\n",
    "a.participate(\"physique\")\n",
    "\n",
    "c = Professeur(\"Marc\", \"Demarets\", 46)\n",
    "\n",
    "b = Room(25)\n",
    "\n",
    "b.add(c)\n",
    "b.add(a)\n",
    "b.show_capacity()\n",
    "print(b)\n",
    "b.remove(a)\n",
    "\n",
    "c.enseigne(\"Physique\")\n",
    "\n",
    "print(b)"
   ]
  },
  {
   "cell_type": "code",
   "execution_count": null,
   "id": "d8e58a35",
   "metadata": {},
   "outputs": [],
   "source": []
  }
 ],
 "metadata": {
  "kernelspec": {
   "display_name": "data_engineer",
   "language": "python",
   "name": "python3"
  },
  "language_info": {
   "codemirror_mode": {
    "name": "ipython",
    "version": 3
   },
   "file_extension": ".py",
   "mimetype": "text/x-python",
   "name": "python",
   "nbconvert_exporter": "python",
   "pygments_lexer": "ipython3",
   "version": "3.12.11"
  }
 },
 "nbformat": 4,
 "nbformat_minor": 5
}
