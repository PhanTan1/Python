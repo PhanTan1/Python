{
 "cells": [
  {
   "cell_type": "markdown",
   "metadata": {
    "id": "rPIVKXCNPMrs"
   },
   "source": [
    "**<p style=\"text-align:center; font-size:30px\"><u> Exercices de base numpy</u></p>**"
   ]
  },
  {
   "cell_type": "markdown",
   "metadata": {
    "id": "aDp8NaOTPMru"
   },
   "source": [
    "# Exercice 1\n",
    "- créez un numpy array depuis la liste suivante [11.7, 20, 325, 10.2, 11.7, 20]\n",
    "- remplacez la première occurence de la valeur 11.7 par 5\n",
    "- remplacez toutes les occurences des valeurs 20 par 0\n",
    "- calculez la taille (mémoire) du tableau\n",
    "- modifier le typage en uint8\n",
    "- calculez la taille du tableau\n",
    "- Observez les valeurs ? Que s'est-il passé ?\n",
    "\n",
    "<br>"
   ]
  },
  {
   "cell_type": "code",
   "execution_count": 2,
   "metadata": {},
   "outputs": [
    {
     "name": "stdout",
     "output_type": "stream",
     "text": [
      "nbytes 48\n",
      "itemsize 8\n",
      "<class 'numpy.uint8'>\n",
      "itemsize <attribute 'itemsize' of 'numpy.generic' objects>\n"
     ]
    }
   ],
   "source": [
    "import numpy as np\n",
    "\n",
    "arr_a = np.array((11.7, 20, 325, 10.2, 11.7, 20))\n",
    "\n",
    "arr_a[0] = 5\n",
    "\n",
    "arr_a\n",
    "\n",
    "arr_a[arr_a==20]=0\n",
    "arr_a\n",
    "\n",
    "print('nbytes', arr_a.nbytes)\n",
    "print('itemsize',arr_a.itemsize)\n",
    "arr_a =np.uint8\n",
    "print(arr_a)\n",
    "print('itemsize',arr_a.itemsize)"
   ]
  },
  {
   "cell_type": "code",
   "execution_count": null,
   "metadata": {},
   "outputs": [],
   "source": []
  },
  {
   "cell_type": "markdown",
   "metadata": {
    "id": "822o_kAlPMrw"
   },
   "source": [
    "# Exercice 2\n",
    "\n",
    "- créez un numpy array depuis la matrice suivante [[1, 2, 3],  [4, 5, 6], [7, 8, np.nan]]\n",
    "- affichez:\n",
    "  - le type de données de la matrice\n",
    "  - sa forme\n",
    "  - son nombre de dimension\n",
    "  - son nombre d'élément\n",
    "  - Depuis la forme, pouvez-vous obtenir le nombre de dimension et le nombre d'élément ?\n",
    "- multipliez la dernière colonne par 5 et divisez la première ligne par 0\n",
    "- modifier le typage en int. Que se passe-t-il ?\n",
    "\n",
    "<br>"
   ]
  },
  {
   "cell_type": "code",
   "execution_count": 26,
   "metadata": {},
   "outputs": [
    {
     "name": "stdout",
     "output_type": "stream",
     "text": [
      "[[ 1.  2.  3.]\n",
      " [ 4.  5.  6.]\n",
      " [ 7.  8. nan]]\n",
      "dtype float64\n",
      "shape (3, 3)\n",
      "ndim 2\n",
      "nsize 9\n",
      "[[ 1.  2. 15.]\n",
      " [ 4.  5. 30.]\n",
      " [ 7.  8. nan]]\n"
     ]
    }
   ],
   "source": [
    "arr_a = np.array([[1, 2, 3],  [4, 5, 6], [7, 8, np.nan]])\n",
    "print(arr_a)\n",
    "\n",
    "\n",
    "print('dtype',arr_a.dtype)\n",
    "print('shape',arr_a.shape)\n",
    "print('ndim',arr_a.ndim)\n",
    "print('nsize', arr_a.size)\n",
    "\n",
    "arr_a[:,-1] *=5\n",
    "#arr_a[0] /=0\n",
    "print(arr_a)\n",
    "\n",
    "arr_a =np.integer\n",
    "\n"
   ]
  },
  {
   "cell_type": "markdown",
   "metadata": {},
   "source": [
    "# Exercice 3\n",
    "\n",
    "Exercice:\n",
    "1. Créer la matrice suivante dans la variable x1:\n",
    "  ```py\n",
    "      [[10, 20, 30],\n",
    "       [40, 50, 60],\n",
    "       [70, 80, 90]]\n",
    "````\n",
    "\n",
    "2. Extraire une partie de x1 dans la variable x2\n",
    "  ```py\n",
    "      [[50, 60],\n",
    "       [80, 90]]\n",
    "````\n",
    "3. Remplacer le 50 de x2 par 99\n",
    "4. Réafficher x1"
   ]
  },
  {
   "cell_type": "code",
   "execution_count": 36,
   "metadata": {},
   "outputs": [
    {
     "name": "stdout",
     "output_type": "stream",
     "text": [
      "[[10 20 30]\n",
      " [40 50 60]\n",
      " [70 80 90]]\n"
     ]
    },
    {
     "data": {
      "text/plain": [
       "array([[50, 60],\n",
       "       [80, 90]])"
      ]
     },
     "metadata": {},
     "output_type": "display_data"
    },
    {
     "name": "stdout",
     "output_type": "stream",
     "text": [
      "[[99 60]\n",
      " [80 90]]\n",
      "[[10 20 30]\n",
      " [40 99 60]\n",
      " [70 80 90]]\n"
     ]
    }
   ],
   "source": [
    "print(np.array([[1,2,3],[4,5,6],[7,8,9]]) * np.array([[10],[10],[10]]))\n",
    "arr_a=(np.array([[1,2,3],[4,5,6],[7,8,9]]) * np.array([[10],[10],[10]]))\n",
    "# np.array([[1,2,3],\n",
    "#           [4,5,6],\n",
    "#           [7,8,9]]) * 10\n",
    "display(arr_a[1:3,1:3])\n",
    "arr_b=(arr_a[1:3,1:3])\n",
    "\n",
    "arr_b[arr_b==50]=99\n",
    "print(arr_b)\n",
    "print(arr_a)\n",
    "\n"
   ]
  },
  {
   "cell_type": "markdown",
   "metadata": {},
   "source": [
    "# Exercice 4\n",
    "\n",
    "Exercice:\n",
    "1. Créer la matrice suivante dans la variable x3:\n",
    "  ```py\n",
    "      [[10, 20, 30],\n",
    "       [40, 50, 60],\n",
    "       [70, 80, 90]]\n",
    "````\n",
    "\n",
    "2. Extraire __une copie__ d'une partie de x3 dans la variable x4\n",
    "  ```py\n",
    "      [[50, 60],\n",
    "       [80, 90]]\n",
    "````\n",
    "3. Remplacer le 50 de x4 par 99\n",
    "4. Réafficher x3"
   ]
  },
  {
   "cell_type": "code",
   "execution_count": 46,
   "metadata": {},
   "outputs": [
    {
     "name": "stdout",
     "output_type": "stream",
     "text": [
      "[[50 60]\n",
      " [80 90]]\n",
      "--------------------------------------------------\n",
      "[[40 50]\n",
      " [70 80]]\n",
      "--------------------------------------------------\n",
      "[[99 60]\n",
      " [80 90]]\n",
      "[[10 20 30]\n",
      " [40 99 60]\n",
      " [70 80 90]]\n"
     ]
    }
   ],
   "source": [
    "x3= np.array([[1,2,3],\n",
    "           [4,5,6],\n",
    "           [7,8,9]]) * 10\n",
    "x4=(x3[1:,1:])\n",
    "print(x4)\n",
    "print('-'*50)\n",
    "x5=(x3[1:,:2])\n",
    "print(x5)\n",
    "print('-'*50)\n",
    "x4[x4==50]=99\n",
    "print(x4)\n",
    "print(x3)\n"
   ]
  },
  {
   "cell_type": "markdown",
   "metadata": {
    "id": "_dh3U5u1PMry"
   },
   "source": [
    "# Exercice 5\n",
    "\n",
    "- créez une matrice (4*4) remplie de valeurs aléatoires comprises entre 2 et 8\n",
    "- créer un matrice d'identité (*i.e.* une matrice carrée dont la diagonale descendente principale est remplie de 1 et le reste = 0). Proposez plusieurs solutions\n",
    "- créer une matrice dont la diagonale principale sera remplie de 6 valeurs aléatoires. Proposez plusieurs solutions\n",
    "\n",
    "(tip: 'zeros','identity', 'fill_diagonal')\n",
    "<br>"
   ]
  },
  {
   "cell_type": "code",
   "execution_count": 12,
   "metadata": {},
   "outputs": [
    {
     "name": "stdout",
     "output_type": "stream",
     "text": [
      "[[6 4 5 3]\n",
      " [4 3 7 3]\n",
      " [7 3 6 6]\n",
      " [3 6 6 7]]\n",
      "[[9. 0. 0. 0. 0. 0. 0. 0.]\n",
      " [0. 3. 0. 0. 0. 0. 0. 0.]\n",
      " [0. 0. 1. 0. 0. 0. 0. 0.]\n",
      " [0. 0. 0. 4. 0. 0. 0. 0.]\n",
      " [0. 0. 0. 0. 3. 0. 0. 0.]\n",
      " [0. 0. 0. 0. 0. 5. 0. 0.]\n",
      " [0. 0. 0. 0. 0. 0. 2. 0.]\n",
      " [0. 0. 0. 0. 0. 0. 0. 1.]]\n"
     ]
    }
   ],
   "source": [
    "import random\n",
    "\n",
    "#arr=(8 -2)*np.random.rand(4,4) + 2\n",
    "arr=np.random.randint(3,8, size=(4,4))\n",
    "print(arr)\n",
    "\n",
    "x =np.identity(8)\n",
    "\n",
    "np.fill_diagonal(x, np.random.randint(0,10, size=8))\n",
    "print(x)\n"
   ]
  },
  {
   "cell_type": "markdown",
   "metadata": {
    "id": "Ifr5eMoKPMrz"
   },
   "source": [
    "# Exercice 6\n",
    "\n",
    "- reproduire la matrice suivante (sans les noms de lignes ou colonnes)\n",
    "<table border=\"1\" class=\"dataframe\">\n",
    "  <thead>\n",
    "    <tr style=\"text-align: right;\">\n",
    "      <th></th>\n",
    "      <th>pâtes</th>\n",
    "      <th>légumes</th>\n",
    "      <th>divers</th>\n",
    "    </tr>\n",
    "  </thead>\n",
    "  <tbody>\n",
    "    <tr>\n",
    "      <th>bob</th>\n",
    "      <td>10€</td>\n",
    "      <td>30€</td>\n",
    "      <td>5€</td>\n",
    "    </tr>\n",
    "    <tr>\n",
    "      <th>alice</th>\n",
    "      <td>20€</td>\n",
    "      <td>50€</td>\n",
    "      <td>1€</td>\n",
    "    </tr>\n",
    "    <tr>\n",
    "      <th>john</th>\n",
    "      <td>15€</td>\n",
    "      <td>30€</td>\n",
    "      <td>NaN</td>\n",
    "    </tr>\n",
    "  </tbody>\n",
    "</table>\n",
    "\n",
    "- affichez le montant total des achats\n",
    "- affichez les totaux des achats par personne\n",
    "- affichez les moyennes des achats par type d'aliments\n",
    "\n",
    "<br>"
   ]
  },
  {
   "cell_type": "code",
   "execution_count": 32,
   "metadata": {},
   "outputs": [
    {
     "name": "stdout",
     "output_type": "stream",
     "text": [
      "[[10. 30.  5.]\n",
      " [20. 50.  1.]\n",
      " [15. 30. nan]]\n",
      "161.0\n",
      "[45. 71. 45.]\n",
      "[15.         36.66666667  3.        ]\n"
     ]
    }
   ],
   "source": [
    "x= np.array([[10,30,5],\n",
    "           [20,50,1],\n",
    "           [15,30,np.nan]])\n",
    "            \n",
    "print(x)\n",
    "\n",
    "print(np.nansum(x))\n",
    "print(np.nansum((x), axis=1))\n",
    "\n",
    "\n",
    "print(np.nanmean(x, axis=0))"
   ]
  },
  {
   "cell_type": "markdown",
   "metadata": {},
   "source": [
    "# Exercice 7\n",
    "\n",
    "Cette fois-ci nous avons les quantités achetées ainsi que le prix unitaires pour chacun des éléments\n",
    "\n",
    "<table border=\"1\" class=\"dataframe\">\n",
    "  <thead>\n",
    "    <tr style=\"text-align: right;\">\n",
    "      <th></th>\n",
    "      <th>pâtes</th>\n",
    "      <th>légumes</th>\n",
    "      <th>divers</th>\n",
    "    </tr>\n",
    "  </thead>\n",
    "  <tbody>\n",
    "    <tr>\n",
    "      <th>bob</th>\n",
    "      <td>1</td>\n",
    "      <td>4</td>\n",
    "      <td>2</td>\n",
    "    </tr>\n",
    "    <tr>\n",
    "      <th>alice</th>\n",
    "      <td>3</td>\n",
    "      <td>5</td>\n",
    "      <td>7</td>\n",
    "    </tr>\n",
    "    <tr>\n",
    "      <th>john</th>\n",
    "      <td>5</td>\n",
    "      <td>4</td>\n",
    "      <td>4</td>\n",
    "    </tr>\n",
    "  </tbody>\n",
    "</table>\n",
    "\n",
    "```py\n",
    "[20, 5, 3]\n",
    "````\n",
    "\n",
    "- calculez le montant total par personne\n",
    "- calculez le montant total par produit\n",
    "\n",
    "<br>"
   ]
  },
  {
   "cell_type": "code",
   "execution_count": 18,
   "metadata": {},
   "outputs": [
    {
     "name": "stdout",
     "output_type": "stream",
     "text": [
      "[[ 20  20   6]\n",
      " [ 60  25  21]\n",
      " [100  20  12]]\n",
      "[ 46 106 132]\n"
     ]
    }
   ],
   "source": [
    "x= np.array([[1,4,2],\n",
    "           [3,5,7],\n",
    "           [5,4,4]])\n",
    "y = np.array([20,5,3])\n",
    "\n",
    "z=x*y\n",
    "print(z)\n",
    "print(np.sum(z,axis=1))"
   ]
  },
  {
   "cell_type": "code",
   "execution_count": null,
   "metadata": {},
   "outputs": [],
   "source": []
  }
 ],
 "metadata": {
  "colab": {
   "provenance": []
  },
  "kernelspec": {
   "display_name": "data_engineer",
   "language": "python",
   "name": "python3"
  },
  "language_info": {
   "codemirror_mode": {
    "name": "ipython",
    "version": 3
   },
   "file_extension": ".py",
   "mimetype": "text/x-python",
   "name": "python",
   "nbconvert_exporter": "python",
   "pygments_lexer": "ipython3",
   "version": "3.12.11"
  }
 },
 "nbformat": 4,
 "nbformat_minor": 4
}
