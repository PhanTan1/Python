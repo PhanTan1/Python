{
 "cells": [
  {
   "cell_type": "markdown",
   "id": "a88a0819",
   "metadata": {},
   "source": [
    "Simuler la vie dans un petit village dans lequel des maisons peuvent être construites à\n",
    "des adresses bien précises ou qu’elles peuvent être également détruites.\n",
    "Assurez-vous que les attributs de vos différentes classes possèdent un getter et un\n",
    "setter bien défini.\n",
    "Bonus :\n",
    "Ajouter des propriétaires aux maisons. Les propriétaires peuvent acheter et vendre les\n",
    "maisons ou bien les louer à d’autres personnes."
   ]
  },
  {
   "cell_type": "code",
   "execution_count": 48,
   "id": "f859f329",
   "metadata": {},
   "outputs": [],
   "source": [
    "class Village:\n",
    "    def __init__(self\n",
    "                 , nom\n",
    "                 , rue_not_available = set([\"Rue de la Tulipe 14\",\"Rue de la Tulipe 16\", \"Rue de la Tulipe 18\"])\n",
    "                 ):\n",
    "        self.nom = nom\n",
    "        self.rue = rue_not_available\n",
    "    \n",
    "    def delete_house(self,rue):\n",
    "            self.rue.discard(rue)\n",
    "        \n"
   ]
  },
  {
   "cell_type": "code",
   "execution_count": 78,
   "id": "c1790baa",
   "metadata": {},
   "outputs": [],
   "source": [
    "class Maison:\n",
    "\n",
    "    def __init__(self\n",
    "                , garden\n",
    "                , adress\n",
    "                , owner\n",
    "                , room = None\n",
    "                ):\n",
    "\n",
    "        self.room = room if room is not None else set ()\n",
    "        self.garden = garden\n",
    "        self._adress = adress \n",
    "        self.owner = owner\n",
    "        \n",
    "    def get_adress(self):\n",
    "        return self._adress\n",
    "    \n",
    "    def get_owner(self):\n",
    "        return f\"Propriétaire: {self.owner}\"\n",
    "\n",
    "    def _add_room(self, room):\n",
    "        self.room.add(room)\n",
    "\n",
    "    def __repr__(self):\n",
    "        return f\"Maison(adress= {self._adress}\"\n",
    "    \n",
    "    def set_owner(self, personne):\n",
    "        if self.owner is None:\n",
    "            self.owner = personne\n",
    "        else:\n",
    "            print(\"This house already have a owner\")\n",
    "\n",
    "    def remove_owner(self, personne):\n",
    "        if self.owner == personne:\n",
    "            self.owner = None\n",
    "        else:\n",
    "            print(\"Ce n'est pas le propriétaire\")\n"
   ]
  },
  {
   "cell_type": "code",
   "execution_count": null,
   "id": "d4736935",
   "metadata": {},
   "outputs": [],
   "source": [
    "class Personne:\n",
    "\n",
    "    def __init__(self\n",
    "                 , firstName\n",
    "                 , lastName\n",
    "                 , list_property = None\n",
    "                 ):\n",
    "        \n",
    "        self.firstName = firstName\n",
    "        self.lastName = lastName\n",
    "        self.list_property = list_property if list_property is not None else set ()\n",
    "\n",
    "    def get_list_property(self):\n",
    "        return self.list_property\n",
    "    \n",
    "    def _add_property(self, maison):\n",
    "        self.list_property.add(maison)\n",
    "\n",
    "    def _remove_property(self, maison):\n",
    "        self.list_property.remove(maison)\n",
    "\n",
    "    def __repr__(self):\n",
    "        return f\"{self.firstName} {self.lastName}\""
   ]
  },
  {
   "cell_type": "code",
   "execution_count": 77,
   "id": "b2ae4a0a",
   "metadata": {},
   "outputs": [
    {
     "name": "stdout",
     "output_type": "stream",
     "text": [
      "Rue de la Tulipe 14\n",
      "{'Cuisine, Salon'}\n",
      "{Maison(adress= Rue de la Tulipe 14}\n",
      "Propriétaire Jean Demos\n",
      "Propriétaire None\n"
     ]
    }
   ],
   "source": [
    "a = Maison(True,\"Rue de la Tulipe 14\",None, {\"Cuisine, Salon\"})\n",
    "\n",
    "print(a.get_adress())\n",
    "print(a.room)\n",
    "\n",
    "b = Personne(\"Jean\", \"Demos\")\n",
    "\n",
    "b._add_property(a)\n",
    "print(b.get_list_property())\n",
    "\n",
    "c = Village(\"Bayonne\")\n",
    "c.delete_house(\"Rue de la Tulipe 14\")\n",
    "#print(c.rue)\n",
    "\n",
    "a.set_owner(b)\n",
    "print(a.get_owner())\n",
    "\n",
    "a.remove_owner(b)\n",
    "print(a.get_owner())"
   ]
  },
  {
   "cell_type": "code",
   "execution_count": null,
   "id": "2d8de119",
   "metadata": {},
   "outputs": [],
   "source": []
  }
 ],
 "metadata": {
  "kernelspec": {
   "display_name": "data_engineer",
   "language": "python",
   "name": "python3"
  },
  "language_info": {
   "codemirror_mode": {
    "name": "ipython",
    "version": 3
   },
   "file_extension": ".py",
   "mimetype": "text/x-python",
   "name": "python",
   "nbconvert_exporter": "python",
   "pygments_lexer": "ipython3",
   "version": "3.12.11"
  }
 },
 "nbformat": 4,
 "nbformat_minor": 5
}
