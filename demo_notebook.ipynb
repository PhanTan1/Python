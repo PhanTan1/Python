{
 "cells": [
  {
   "cell_type": "code",
   "execution_count": 1,
   "id": "b8a32312",
   "metadata": {},
   "outputs": [
    {
     "name": "stdout",
     "output_type": "stream",
     "text": [
      "--------------------------------------------------\n",
      "Hello world\n",
      "--------------------------------------------------\n"
     ]
    }
   ],
   "source": [
    "print(\"-\"*50)\n",
    "print(\"Hello world\")\n",
    "print(\"-\"*50)"
   ]
  },
  {
   "cell_type": "code",
   "execution_count": null,
   "id": "c0d2501c",
   "metadata": {},
   "outputs": [],
   "source": [
    "x = 1\n",
    "y = 2"
   ]
  },
  {
   "cell_type": "code",
   "execution_count": 327,
   "id": "075de5af",
   "metadata": {},
   "outputs": [
    {
     "name": "stdout",
     "output_type": "stream",
     "text": [
      "33\n",
      "1\n"
     ]
    }
   ],
   "source": [
    "print(x)\n",
    "print(y)"
   ]
  },
  {
   "cell_type": "code",
   "execution_count": null,
   "id": "11398c65",
   "metadata": {},
   "outputs": [],
   "source": [
    "y=2"
   ]
  },
  {
   "cell_type": "markdown",
   "id": "b17fb97f",
   "metadata": {},
   "source": [
    "# titre\n",
    "## sous-titre\n",
    "\n",
    "texte\n",
    "\n",
    "*italique*\n",
    "\n",
    "**gras**\n",
    "\n",
    "- point\n",
    "- deux\n",
    "    - sous-point"
   ]
  },
  {
   "cell_type": "code",
   "execution_count": 10,
   "id": "5cfd4351",
   "metadata": {},
   "outputs": [
    {
     "name": "stdout",
     "output_type": "stream",
     "text": [
      "--------------------------------------------------\n",
      "5\n",
      "<class 'int'>\n",
      "--------------------------------------------------\n"
     ]
    }
   ],
   "source": [
    "# comment\n",
    "\"\"\"\n",
    "test\n",
    "\n",
    "\"\"\"\n",
    "\n",
    "ma_var = int(input(\"entrez quelque chose\"))\n",
    "\n",
    "print(\"-\"*50)\n",
    "print(ma_var)\n",
    "print(type(ma_var))\n",
    "print(\"-\"*50)"
   ]
  },
  {
   "cell_type": "code",
   "execution_count": 12,
   "id": "5a67fbca",
   "metadata": {},
   "outputs": [
    {
     "name": "stdout",
     "output_type": "stream",
     "text": [
      "7 5\n"
     ]
    }
   ],
   "source": [
    "A = 5\n",
    "B = 7\n",
    "\n",
    "A, B = B, A\n",
    "\n",
    "print(A,B)"
   ]
  },
  {
   "cell_type": "code",
   "execution_count": 17,
   "id": "3e81079b",
   "metadata": {},
   "outputs": [
    {
     "name": "stdout",
     "output_type": "stream",
     "text": [
      "votre prénom est: Tan et votre nom de famille est: Phan\n"
     ]
    }
   ],
   "source": [
    "variable_prenom = input(\"Entrez votre prénom\")\n",
    "variable_nom = input (\"Entrez votre nom de famille\")\n",
    "\n",
    "print(\"votre prénom est:\",variable_prenom,\"et votre nom de famille est:\",variable_nom, sep=\" \")"
   ]
  },
  {
   "cell_type": "code",
   "execution_count": 25,
   "id": "803ff365",
   "metadata": {},
   "outputs": [
    {
     "name": "stdout",
     "output_type": "stream",
     "text": [
      "--------------------------------------------------\n",
      "Hello\n",
      "Je m'appelle Tan\n",
      " ************************************************** \n",
      "j'apprend Python\n",
      "$**************************************************\n"
     ]
    }
   ],
   "source": [
    "print(\"-\"*50)\n",
    "print(\"Hello\\nJe m'appelle Tan\\n\", \"*\"*50 ,\"\\nj'apprend Python\\n\", end = \"$\")\n",
    "print(\"*\"*50)"
   ]
  },
  {
   "cell_type": "code",
   "execution_count": 29,
   "id": "27ccc128",
   "metadata": {},
   "outputs": [
    {
     "name": "stdout",
     "output_type": "stream",
     "text": [
      "ifjfsdsdfjkdsf\n"
     ]
    }
   ],
   "source": [
    "variable_mot1=input(\"Entrez votre premier mot\")\n",
    "variable_mot2 = input (\"Entrez votre second mot\")\n",
    "\n",
    "print(variable_mot1,variable_mot2, sep=\"\")"
   ]
  },
  {
   "cell_type": "code",
   "execution_count": 33,
   "id": "e86efa98",
   "metadata": {},
   "outputs": [
    {
     "name": "stdout",
     "output_type": "stream",
     "text": [
      "267212766 est la somme de vos 2 chiffres"
     ]
    }
   ],
   "source": [
    "variable_chiffre1= int(input(\"entrez votre premier chiffre\"))\n",
    "variable_chiffre2= int(input(\"entrez votre second chiffre\"))\n",
    "\n",
    "print(variable_chiffre1+variable_chiffre2, end=\" est la somme de vos 2 chiffres\")"
   ]
  },
  {
   "cell_type": "code",
   "execution_count": 35,
   "id": "d688b2aa",
   "metadata": {},
   "outputs": [
    {
     "name": "stdout",
     "output_type": "stream",
     "text": [
      "34*98*234.4||||"
     ]
    }
   ],
   "source": [
    "print(34,98,234.4,sep =\"*\", end =\"||||\")"
   ]
  },
  {
   "cell_type": "code",
   "execution_count": 36,
   "id": "e8a6981f",
   "metadata": {},
   "outputs": [
    {
     "name": "stdout",
     "output_type": "stream",
     "text": [
      "12 44 20 1980 6 792 2\n"
     ]
    }
   ],
   "source": [
    "A = 12\n",
    "B = 3 * A + 8\n",
    "C = B - 2 * A\n",
    "D = (C + 25) * B\n",
    "E = (A + B) % 10\n",
    "F = (C * D) // (B + 6)\n",
    "G = (D + E) // (F - 9)\n",
    "\n",
    "print(A,B,C,D,E,F,G)"
   ]
  },
  {
   "cell_type": "code",
   "execution_count": 43,
   "id": "59277756",
   "metadata": {},
   "outputs": [
    {
     "name": "stdout",
     "output_type": "stream",
     "text": [
      "True\n",
      "True\n",
      "False\n",
      "False\n",
      "False\n",
      "True\n",
      "False\n",
      "False\n"
     ]
    },
    {
     "data": {
      "text/plain": [
       "True"
      ]
     },
     "execution_count": 43,
     "metadata": {},
     "output_type": "execute_result"
    }
   ],
   "source": [
    "A=13\n",
    "B = 5\n",
    "C = True\n",
    "D= not(C)\n",
    "\n",
    "print(A > 10) and (B < 20)\n",
    "print(C != 40) or (D >= 100)\n",
    "print(A == 2) and (not (B > 15))\n",
    "print(C > 50) or (not (D < 200))\n",
    "print((A < B) and (C > 30)) or (D == 270)\n",
    "print (not ((A * B) > 100))\n",
    "print((B == 15) or ((C > 60) and (A < 5)))\n",
    "print(((B == 15) or ((C > 60) and (A < 5))) and (A < B)) or (not (B == 9)) "
   ]
  },
  {
   "cell_type": "code",
   "execution_count": 46,
   "id": "2e6781b5",
   "metadata": {},
   "outputs": [
    {
     "name": "stdout",
     "output_type": "stream",
     "text": [
      "False\n"
     ]
    }
   ],
   "source": [
    "li = []\n",
    "print( li is None)\n"
   ]
  },
  {
   "cell_type": "code",
   "execution_count": 109,
   "id": "20258cf6",
   "metadata": {},
   "outputs": [
    {
     "name": "stdout",
     "output_type": "stream",
     "text": [
      "0 jour(s) 0 heure(s) 22 minute(s) 0 seconde(s)\n"
     ]
    }
   ],
   "source": [
    "variable_seconde= int(input(\"entrez les secondes\"))\n",
    "\n",
    "variable_jour = 0\n",
    "variable_heure = 0\n",
    "variable_minute = 0\n",
    "variable_seconde_restant = 0\n",
    "\n",
    "variable_jour= variable_seconde//86400 # nombre de jour\n",
    "variable_heure=variable_jour%3600 # nombre d'heure\n",
    "variable_heure =variable_heure//3600\n",
    "variable_heure =variable_heure%3600\n",
    "variable_minute =variable_seconde%3600\n",
    "variable_minute =variable_seconde//3600\n",
    "variable_seconde_restant = variable_seconde%60\n",
    "\n",
    "\n",
    "\n",
    "\n",
    "\n",
    "print(variable_jour,\"jour(s)\", variable_heure,\"heure(s)\", variable_minute,\"minute(s)\", variable_seconde_restant,\"seconde(s)\")\n"
   ]
  },
  {
   "cell_type": "code",
   "execution_count": 111,
   "id": "759f5e04",
   "metadata": {},
   "outputs": [
    {
     "name": "stdout",
     "output_type": "stream",
     "text": [
      "3332 jour(s), 13 heure(s), 56 minute(s) 27 seconde(s)\n"
     ]
    }
   ],
   "source": [
    "\n",
    "seconds2 = int(input('Seconds :'))\n",
    "print((seconds2 // (60*60*24)),'jour(s),', ((seconds2 // (60*60)) % 24), 'heure(s),', ((seconds2 // 60) %60), 'minute(s)', (seconds2 % 60), 'seconde(s)')"
   ]
  },
  {
   "cell_type": "code",
   "execution_count": 124,
   "id": "b3b73559",
   "metadata": {},
   "outputs": [
    {
     "name": "stdout",
     "output_type": "stream",
     "text": [
      "4.3 petit extra1 sucre extra2 lait extra3 caramel\n"
     ]
    }
   ],
   "source": [
    "#Créez un programme qui gère les commandes de café en fonction des différentes options telles que la taille, le type de\n",
    "#café, les extras, etc. Utilisez des correspondances pour traiter chaque option et calculer le prix total de la commande.\n",
    "\n",
    "type_extras1 = 'N'\n",
    "type_extras2 = 'N'\n",
    "type_extras3 = 'N'\n",
    "taille = ''\n",
    "type= ''\n",
    "taille_café = int(input(\"Choisir la taille de votre café avec 1 pour petit, 2 pour moyen et 3 pour grand\"))\n",
    "type_café = int(input(\"Choisir la type de votre café avec 1 pour expresso, 2 pour latte  et 3 pour moka\"))\n",
    "type_extras1 = (input(\"Voulez-vous du sucre? touche O pour oui et touche N pour non \"))\n",
    "type_extras2 = (input(\"Voulez-vous du lait? touche O pour oui et touche N pour non \"))\n",
    "type_extras3 = (input(\"Voulez-vous du caramel? touche O pour oui et touche N pour non \"))\n",
    "\n",
    "prix=1.0\n",
    "\n",
    "match taille_café:\n",
    "    case 1: prix=prix; taille ='petit'\n",
    "    case 2: prix*= 1.5; taille = 'moyen'\n",
    "    case 3: prix=prix*2; taille='grand'\n",
    "\n",
    "match type_café:\n",
    "    case 1: prix=prix; type ='expresso'\n",
    "    case 2: prix *= 1.3; type ='latte'\n",
    "    case 3: prix *= 1.5; type ='moka'\n",
    "\n",
    "if type_extras1 == 'O' or 'o':\n",
    "    prix=prix + 1; type_extras1 = 'sucre'\n",
    "if type_extras2 == 'O' or 'o':\n",
    "    prix=prix + 1 ; type_extras2 = 'lait'\n",
    "if type_extras3 == 'O' or 'o':\n",
    "    prix=prix + 1 ; type_extras3 = 'caramel'\n",
    "\n",
    "print(prix, taille,\"extra1\",type_extras1, \"extra2\",type_extras2, \"extra3\",type_extras3 )"
   ]
  },
  {
   "cell_type": "code",
   "execution_count": null,
   "id": "4146e404",
   "metadata": {},
   "outputs": [
    {
     "name": "stdout",
     "output_type": "stream",
     "text": [
      "Bravo vous avez trouvé le nombre qui était : 1\n"
     ]
    }
   ],
   "source": [
    "\"\"\"\n",
    "Créez un programme qui génère un nombre aléatoire (import random) et permet à l'utilisateur de deviner ce nombre.\n",
    "Utilisez des correspondances pour comparer la devinette de l'utilisateur avec le nombre généré et fournir des indices.\n",
    "\"\"\"\n",
    "import random\n",
    "random_number = random.randint(1,20)\n",
    "number_guess = 0\n",
    "#print(random_number)\n",
    "while number_guess is not random_number:\n",
    "    number_guess = int(input(\"Devinez la valeur entre 1 et 20\"))\n",
    "\n",
    "    if number_guess > random_number:\n",
    "        print(\"Le chiffre a trouvé est plus petit\")\n",
    "   # number_guess = int(input(\"Devinez de nouveau\"))\n",
    "\n",
    "    elif number_guess < random_number:\n",
    "        print (\"Le chiffre a trouvé est plus grand\")\n",
    "    # number_guess = int(input(\"Devinez de nouveau\"))\n",
    "\n",
    "    else:\n",
    "        print(f\"Bravo vous avez trouvé le nombre qui était : {random_number}\")\n"
   ]
  },
  {
   "cell_type": "code",
   "execution_count": 149,
   "id": "846437d2",
   "metadata": {},
   "outputs": [
    {
     "name": "stdout",
     "output_type": "stream",
     "text": [
      "Votre IMC est de 36.33, ce qui correspond à une obésité sévère\n"
     ]
    }
   ],
   "source": [
    "\"\"\"\n",
    "Créez un programme qui calcule l'indice de masse corporelle (IMC) d'une personne en fonction de son poids et de sa\n",
    "taille. Utilisez des correspondances pour interpréter et catégoriser l'IMC résultant en différentes catégories de poids.\n",
    "\n",
    "\"\"\"\n",
    "weight = float(input(\"Veuillez entrer votre poids en kg:\"))\n",
    "height = float(input(\"Veuillez entrer votre taille en m:\"))\n",
    "\n",
    "imc=weight/(height**2)\n",
    "\n",
    "imc = round(imc,2)\n",
    "\n",
    "if imc < 16.5:\n",
    "    print(f\"Votre IMC est de {imc}, ce qui correspond à la dénutrition\")\n",
    "\n",
    "elif imc > 16.5 and imc < 18.5:\n",
    "    print(f\"Votre IMC est de {imc}, ce qui correspond à la maigreur\")\n",
    "\n",
    "elif imc > 18.5 and imc < 25:\n",
    "    print(f\"Votre IMC est de {imc}, ce qui correspond à la normalité\")\n",
    "\n",
    "elif imc > 25 and imc < 30:\n",
    "    print(f\"Votre IMC est de {imc}, ce qui correspond à un surpoids\")\n",
    "\n",
    "elif imc > 30 and imc < 35:\n",
    "    print(f\"Votre IMC est de {imc}, ce qui correspond à une obésité modérée\")\n",
    "\n",
    "elif imc > 35 and imc < 40:\n",
    "    print(f\"Votre IMC est de {imc}, ce qui correspond à une obésité sévère\")\n",
    "\n",
    "else:\n",
    "    print(f\"Votre IMC est de {imc}, ce qui correspond une obésité morbide\")"
   ]
  },
  {
   "cell_type": "code",
   "execution_count": 193,
   "id": "11ce1a7b",
   "metadata": {},
   "outputs": [
    {
     "name": "stdout",
     "output_type": "stream",
     "text": [
      "Following are the prime numbers smaller\n",
      "than or equal to 100\n",
      "2\n",
      "3\n",
      "5\n",
      "7\n",
      "11\n",
      "13\n",
      "17\n",
      "19\n",
      "23\n",
      "29\n",
      "31\n",
      "37\n",
      "41\n",
      "43\n",
      "47\n",
      "53\n",
      "59\n",
      "61\n",
      "67\n",
      "71\n",
      "73\n",
      "79\n",
      "83\n",
      "89\n",
      "97\n"
     ]
    }
   ],
   "source": [
    "\"\"\"\n",
    "Concevez un programme qui génère et affiche les nombres premiers jusqu'à 100 en utilisant une boucle.\n",
    "\n",
    "\"\"\"\n",
    "\n",
    "# Python program to print all Primes Smaller \n",
    "# than or equal to N using Sieve of Eratosthenes\n",
    "\n",
    "\n",
    "def SieveOfEratosthenes(num):\n",
    "    prime = [True for i in range(num+1)]\n",
    "# boolean array\n",
    "    p = 2\n",
    "    while (p * p <= num):\n",
    "\n",
    "        # If prime[p] is not\n",
    "        # changed, then it is a prime\n",
    "        if (prime[p] == True):\n",
    "\n",
    "            # Updating all multiples of p\n",
    "            for i in range(p * p, num+1, p):\n",
    "                prime[i] = False\n",
    "        p += 1\n",
    "\n",
    "    # Print all prime numbers\n",
    "    for p in range(2, num+1):\n",
    "        if prime[p]:\n",
    "            print(p)\n",
    "\n",
    "\n",
    "# Driver code\n",
    "if __name__ == '__main__':\n",
    "    num = 100\n",
    "    print(\"Following are the prime numbers smaller\"),\n",
    "    print(\"than or equal to\", num)\n",
    "    SieveOfEratosthenes(num)"
   ]
  },
  {
   "cell_type": "code",
   "execution_count": null,
   "id": "8fbee5c2",
   "metadata": {},
   "outputs": [],
   "source": []
  },
  {
   "cell_type": "code",
   "execution_count": 154,
   "id": "2dd0ed3a",
   "metadata": {},
   "outputs": [
    {
     "name": "stdout",
     "output_type": "stream",
     "text": [
      "Vous êtes encore mineur\n"
     ]
    }
   ],
   "source": [
    "\"\"\"\n",
    "Créez un programme qui demande à l'utilisateur d'entrer son âge. Utilisez un opérateur ternaire pour vérifier si\n",
    "l'utilisateur est majeur ou mineur. Affichez ensuite un message approprié en fonction de la réponse.\n",
    "\"\"\"\n",
    "age = int(input(\"Veuillez entrer âge:\"))\n",
    "\n",
    "result=\"Vous êtes majeur\" if age > 17 else  \"Vous êtes encore mineur\"\n",
    "\n",
    "print(result)"
   ]
  },
  {
   "cell_type": "code",
   "execution_count": null,
   "id": "130a9619",
   "metadata": {},
   "outputs": [
    {
     "name": "stdout",
     "output_type": "stream",
     "text": [
      "Ce n'est pas le bon chiffre, souhaitez-vous rejouer ?\n",
      "True\n",
      "Ce n'est pas le bon chiffre, souhaitez-vous rejouer ?\n",
      "False\n"
     ]
    }
   ],
   "source": [
    "\"\"\"\n",
    "Jeu de devinette de nombre amélioré : Écrivez un jeu interactif où l'ordinateur génère un nombre aléatoire entre 1 et\n",
    "100, et l'utilisateur doit deviner ce nombre. Utilisez une boucle pour permettre à l'utilisateur de faire plusieurs\n",
    "tentatives. Après chaque tentative, demandez à l'utilisateur s'il souhaite continuer à jouer. Répétez le processus jusqu'à\n",
    "ce qu'il décide de ne plus jouer. Enfin, affichez le nombre de tentatives utilisées pour deviner le nombre.\n",
    "\n",
    "\"\"\"\n",
    "\n",
    "import random\n",
    "random_number = random.randint(1,3)\n",
    "number_guess = 0\n",
    "number_try=0\n",
    "play_again = True\n",
    "\n",
    "while number_guess is not random_number and play_again == True:\n",
    "\n",
    "    number_try=number_try+1\n",
    "    number_guess = int(input(\"Devinez la valeur entre 1 et 100:\"))\n",
    "\n",
    "    if number_guess is not random_number:\n",
    "        print(\"Ce n'est pas le bon chiffre, souhaitez-vous rejouer ?\")\n",
    "        play_again = bool(input(\"1 pour Oui, touche enter pour Non\"))\n",
    "        print (play_again)\n",
    "    elif play_again == False:\n",
    "        print (\"fin de partie\")\n",
    "        break\n",
    "    else:\n",
    "        print(f\"Bravo vous avez trouvé le nombre qui était : {random_number} en {number_try} tentative(s)\")"
   ]
  },
  {
   "cell_type": "code",
   "execution_count": 179,
   "id": "cb32539e",
   "metadata": {},
   "outputs": [
    {
     "name": "stdout",
     "output_type": "stream",
     "text": [
      "h\n",
      "j\n",
      "f\n",
      "u\n",
      "h\n",
      "f\n",
      "u\n",
      "e\n",
      "f\n"
     ]
    }
   ],
   "source": [
    "\"\"\"\n",
    "Écrivez un programme qui demande à l'utilisateur d'entrer un mot. Utilisez une boucle pour afficher chaque caractère\n",
    "du mot un par un jusqu'à la fin du mot.\n",
    "\n",
    "\"\"\"\n",
    "mot = (input(\"Entrez un mot\"))\n",
    "\n",
    "#char_mot = list(mot)\n",
    "#print(char_mot)\n",
    "\n",
    "for let in mot :\n",
    "    print (let)\n"
   ]
  },
  {
   "cell_type": "code",
   "execution_count": 188,
   "id": "1cc1b0b6",
   "metadata": {},
   "outputs": [
    {
     "name": "stdout",
     "output_type": "stream",
     "text": [
      "4.3 petit extra1 sucre extra2 lait extra3 caramel\n",
      "4.3\n",
      "5.6 grand extra1 sucre extra2 lait extra3 caramel\n",
      "9.899999999999999\n",
      "9.899999999999999\n"
     ]
    }
   ],
   "source": [
    "\"\"\"\n",
    "Gestionnaire de commandes de café amélioré :Écrivez un programme interactif qui prend les commandes de café en\n",
    "fonction des options telles que la taille, le type de café et les extras. Utilisez une boucle pour permettre à l'utilisateur\n",
    "de passer plusieurs commandes et affichez le prix total à la fin de chaque commande. Demandez ensuite à l'utilisateur\n",
    "s'il souhaite passer une autre commande et répétez le processus jusqu'à ce qu'il n'en ait plus envie\n",
    "\"\"\"\n",
    "\n",
    "type_extras1 = 'N'\n",
    "type_extras2 = 'N'\n",
    "type_extras3 = 'N'\n",
    "taille = ''\n",
    "type= ''\n",
    "total =0.0\n",
    "\n",
    "encore= True\n",
    "\n",
    "while encore == True:\n",
    "    taille_café = int(input(\"Choisir la taille de votre café avec 1 pour petit, 2 pour moyen et 3 pour grand\"))\n",
    "    type_café = int(input(\"Choisir la type de votre café avec 1 pour expresso, 2 pour latte  et 3 pour moka\"))\n",
    "    type_extras1 = (input(\"Voulez-vous du sucre? touche O pour oui et touche N pour non \"))\n",
    "    type_extras2 = (input(\"Voulez-vous du lait? touche O pour oui et touche N pour non \"))\n",
    "    type_extras3 = (input(\"Voulez-vous du caramel? touche O pour oui et touche N pour non \"))\n",
    "    prix=1.0\n",
    "    match taille_café:\n",
    "        case 1: prix=prix; taille ='petit'\n",
    "        case 2: prix*= 1.5; taille = 'moyen'\n",
    "        case 3: prix=prix*2; taille='grand'\n",
    "\n",
    "    match type_café:\n",
    "        case 1: prix=prix; type ='expresso'\n",
    "        case 2: prix *= 1.3; type ='latte'\n",
    "        case 3: prix *= 1.5; type ='moka'\n",
    "\n",
    "    if type_extras1 == 'O' or 'o':\n",
    "        prix=prix + 1; type_extras1 = 'sucre'\n",
    "    if type_extras2 == 'O' or 'o':\n",
    "        prix=prix + 1 ; type_extras2 = 'lait'\n",
    "    if type_extras3 == 'O' or 'o':\n",
    "        prix=prix + 1 ; type_extras3 = 'caramel'\n",
    "\n",
    "    print(prix, taille,\"extra1\",type_extras1, \"extra2\",type_extras2, \"extra3\",type_extras3 )\n",
    "    total=total+prix\n",
    "    print(total)\n",
    "    encore = bool(input(\"Voulez-vous passer une autre commande ? Taper O pour oui, taper enter pour non\"))\n",
    "print(total)"
   ]
  },
  {
   "cell_type": "code",
   "execution_count": 239,
   "id": "90a7363c",
   "metadata": {},
   "outputs": [
    {
     "name": "stdout",
     "output_type": "stream",
     "text": [
      "y\n",
      "t\n",
      "r\n",
      "e\n",
      "w\n",
      "q\n",
      "ytrewq\n",
      "['y', 't', 'r', 'e', 'w', 'q']\n"
     ]
    }
   ],
   "source": [
    "\"\"\"\n",
    "Écrivez un programme qui demande à l'utilisateur d'entrer un mot. Utilisez une boucle pour inverser l'ordre des lettres\n",
    "du mot et affichez le mot inversé à la fin.\n",
    "\"\"\"\n",
    "mot = (input(\"Entrez un mot\"))\n",
    "n=0\n",
    "#char_mot = list(mot)\n",
    "#print(char_mot)\n",
    "liste=[]\n",
    "for let in mot [::-1]:\n",
    "    print (let)\n",
    "    liste.insert(n,let)\n",
    "    n=n+1\n",
    "\n",
    "mot_reverse = ''.join(liste)\n",
    "print(mot_reverse)\n",
    "print(liste)"
   ]
  },
  {
   "cell_type": "code",
   "execution_count": 220,
   "id": "6710bf04",
   "metadata": {},
   "outputs": [
    {
     "name": "stdout",
     "output_type": "stream",
     "text": [
      "1\n",
      "2\n",
      "4\n",
      "8\n",
      "16\n",
      "32\n",
      "64\n",
      "128\n"
     ]
    }
   ],
   "source": [
    "z=1\n",
    "print(z)\n",
    "while z <128:\n",
    "   z=z*2 \n",
    "   print(z)\n",
    "    \n",
    "    \n",
    "    "
   ]
  },
  {
   "cell_type": "code",
   "execution_count": 232,
   "id": "0c61bcb0",
   "metadata": {},
   "outputs": [
    {
     "name": "stdout",
     "output_type": "stream",
     "text": [
      "5\n",
      "10\n",
      "15\n",
      "20\n",
      "25\n",
      "30\n",
      "35\n",
      "40\n",
      "45\n",
      "50\n"
     ]
    }
   ],
   "source": [
    "chiffre= int((input(\"Entrez un chiffre\")))\n",
    "n=1\n",
    "while n < 11: \n",
    "    mul=chiffre*n\n",
    "    print(mul)\n",
    "    n=n+1"
   ]
  },
  {
   "cell_type": "code",
   "execution_count": null,
   "id": "bc7d9647",
   "metadata": {},
   "outputs": [
    {
     "name": "stdout",
     "output_type": "stream",
     "text": [
      "[49, 81, 75, 59, 85, 27, 72, 16, 51, 60]\n"
     ]
    }
   ],
   "source": [
    "\"\"\"\n",
    " Commencez par créer une liste de 10 nombres aléatoires compris entre 1 et 100. Ensuite, affichez cette liste générée.\n",
    "Après cela, calculez la somme de tous les éléments de la liste et affichez-la\n",
    "\"\"\"\n",
    "import random\n",
    "\n",
    "random_list=[]\n",
    "n=0\n",
    "\n",
    "while n<10 :\n",
    "    x= random.randint(1,100)\n",
    "    random_list.insert(n,x)\n",
    "    n=n+1\n",
    "print(random_list)\n"
   ]
  },
  {
   "cell_type": "code",
   "execution_count": 252,
   "id": "86c1d675",
   "metadata": {},
   "outputs": [
    {
     "name": "stdout",
     "output_type": "stream",
     "text": [
      "('tan', 'phan')\n"
     ]
    }
   ],
   "source": [
    "\"\"\"\n",
    "Invitez l'utilisateur à saisir son prénom et son nom. Ensuite, créez un tuple contenant ces informations. Pour finir,\n",
    "affichez séparément le prénom et le nom à partir du tuple.\n",
    "\"\"\"\n",
    "\n",
    "first_name = (input(\"Entrez un prénom\"))\n",
    "last_name = (input(\"Entrez un nom de famille\"))\n",
    "\n",
    "tuple_nom_prenom =(first_name, last_name)\n",
    "\n",
    "print(tuple_nom_prenom)\n"
   ]
  },
  {
   "cell_type": "code",
   "execution_count": 259,
   "id": "4b881bc6",
   "metadata": {},
   "outputs": [
    {
     "name": "stdout",
     "output_type": "stream",
     "text": [
      "[4, 12, 1, 5, 13, 16, 9, 7, 6, 12]\n",
      "[16, 6, 5, 15, 20, 18, 2, 13, 8, 7]\n",
      "[5, 13, 16, 7, 6]\n"
     ]
    }
   ],
   "source": [
    "\"\"\"\n",
    "Générez deux ensembles de nombres aléatoires compris entre 1 et 20. Affichez ces deux ensembles générés. Enfin,\n",
    "trouvez l'intersection des deux ensembles et affichez-la.\n",
    "\n",
    "\"\"\"\n",
    "\n",
    "import random\n",
    "\n",
    "random_list1=[]\n",
    "random_list2=[]\n",
    "common_list=[]\n",
    "n=0\n",
    "m=0\n",
    "while n<10 :\n",
    "    x= random.randint(1,20)\n",
    "    random_list1.insert(n,x)\n",
    "    x= random.randint(1,20)\n",
    "    random_list2.insert(n,x)\n",
    "    n=n+1\n",
    "print(random_list1)\n",
    "print(random_list2)\n",
    "\n",
    "for nombre in random_list1:\n",
    "    for nombre2 in random_list2:\n",
    "        if nombre == nombre2:\n",
    "            common_list.insert (m,nombre)\n",
    "            m=m+1\n",
    "print(common_list)"
   ]
  },
  {
   "cell_type": "code",
   "execution_count": 261,
   "id": "0aa1fb8f",
   "metadata": {},
   "outputs": [
    {
     "name": "stdout",
     "output_type": "stream",
     "text": [
      "0.79\n"
     ]
    }
   ],
   "source": [
    "\"\"\"\n",
    "Créez un dictionnaire contenant les prix de quelques fruits tels que la pomme, la banane et l'orange. Demandez à\n",
    "l'utilisateur de saisir le nom d'un fruit, puis affichez le prix correspondant à ce fruit s'il existe dans le dictionnaire.\n",
    "\n",
    "\"\"\"\n",
    "\n",
    "fruit_dict = {\n",
    "    \"Orange\": 5.00,\n",
    "    \"Pomme\": 3.00,\n",
    "    \"Nectarine\": 1.35,\n",
    "    \"Grenade\": 2.89,\n",
    "    \"Mangue\": 2.19,\n",
    "    \"Poire\": 1.49,\n",
    "    \"Banane\": 0.79\n",
    "}\n",
    "\n",
    "fruit=(input(\"Pour quel fruit souhaitez-vous connaître le prix ?\"))\n",
    "\n",
    "print(fruit_dict[fruit])"
   ]
  },
  {
   "cell_type": "code",
   "execution_count": 324,
   "id": "c1e327f2",
   "metadata": {},
   "outputs": [
    {
     "name": "stdout",
     "output_type": "stream",
     "text": [
      "3\n",
      "Le plus vieux a: 31 et son prénom est Jean \n"
     ]
    }
   ],
   "source": [
    "\"\"\"\n",
    "Créez une liste de tuples contenant le nom et l'âge de trois personnes. Trouvez ensuite la personne la plus âgée et\n",
    "affichez son nom.\n",
    "\"\"\"\n",
    "\n",
    "tuple_trois_personnes =(\"Pierre\",25, \"Jean\", 31, \"Marco\", 18 )\n",
    "\n",
    "num = tuple_trois_personnes[1]\n",
    "idx = 1\n",
    "for index, i in enumerate(tuple_trois_personnes[1:6:2]):\n",
    "    if  i > num:\n",
    "            num = i\n",
    "            idx = index\n",
    "x = tuple_trois_personnes.index(num)\n",
    "print(x)\n",
    "print(f\"Le plus vieux a: {num} et son prénom est {tuple_trois_personnes[x-1]} \")\n",
    "\n"
   ]
  },
  {
   "cell_type": "code",
   "execution_count": 326,
   "id": "cce9ae90",
   "metadata": {},
   "outputs": [
    {
     "name": "stdout",
     "output_type": "stream",
     "text": [
      "[26, 11, 43, 28, 22, 36, 46, 7, 10, 33]\n",
      "[26, 28, 22, 36, 46, 10]\n"
     ]
    }
   ],
   "source": [
    "\"\"\"\n",
    "Générez une liste de 10 nombres aléatoires compris entre 1 et 50. Affichez cette liste générée. Ensuite, filtrez les\n",
    "nombres pairs de la liste et créez une nouvelle liste ne contenant que ces nombres pairs. Enfin, affichez la nouvelle\n",
    "liste contenant uniquement les nombres pairs.\n",
    "\n",
    "\"\"\"\n",
    "\n",
    "import random\n",
    "\n",
    "random_list=[]\n",
    "common_list=[]\n",
    "n=0\n",
    "m=0\n",
    "while n<10 :\n",
    "    x= random.randint(1,50)\n",
    "    random_list.insert(n,x)\n",
    "    n=n+1\n",
    "print(random_list)\n",
    "\n",
    "for nombre in random_list :\n",
    "    if (nombre%2==0):\n",
    "        common_list.insert (m,nombre)\n",
    "        m=m+1\n",
    "print(common_list)"
   ]
  },
  {
   "cell_type": "code",
   "execution_count": null,
   "id": "64475175",
   "metadata": {},
   "outputs": [],
   "source": []
  }
 ],
 "metadata": {
  "kernelspec": {
   "display_name": "data_engineer",
   "language": "python",
   "name": "python3"
  },
  "language_info": {
   "codemirror_mode": {
    "name": "ipython",
    "version": 3
   },
   "file_extension": ".py",
   "mimetype": "text/x-python",
   "name": "python",
   "nbconvert_exporter": "python",
   "pygments_lexer": "ipython3",
   "version": "3.12.11"
  }
 },
 "nbformat": 4,
 "nbformat_minor": 5
}
