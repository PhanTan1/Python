{
 "cells": [
  {
   "cell_type": "markdown",
   "id": "e4a9c04c",
   "metadata": {},
   "source": [
    "## 1. Lorem Ipsum\n",
    "- Créez une fonction qui compte combien de mots différent est présent dans un texte (et leur fréquence).\n",
    "    - ne gardez que les mots qui ont >=3 occurences\n",
    "- Vous allez avoir besoins des operations \"string methods\": https://www.w3schools.com/python/python_ref_string.asp\n",
    "\n",
    "- Vous pouver utiliser le texte \"Lorem Ipsum\" suivant:\n",
    "\n",
    "    - en latin:\n",
    "    \"\"\"Lorem ipsum dolor sit amet, consectetur adipiscing elit, sed do eiusmod tempor incididunt ut labore et dolore magna aliqua. Ut enim ad minim veniam, quis nostrud exercitation ullamco laboris nisi ut aliquip ex ea commodo consequat. Duis aute irure dolor in reprehenderit in voluptate velit esse cillum dolore eu fugiat nulla pariatur. Excepteur sint occaecat cupidatat non proident, sunt in culpa qui officia deserunt mollit anim id est laborum.\"\"\"\n",
    "    - ou en anglais:\n",
    "    \"\"\" But I must explain to you how all this mistaken idea of denouncing pleasure and praising pain was born and I will give you a complete account of the system, and expound the actual teachings of the great explorer of the truth, the master-builder of human happiness. No one rejects, dislikes, or avoids pleasure itself, because it is pleasure, but because those who do not know how to pursue pleasure rationally encounter consequences that are extremely painful. Nor again is there anyone who loves or pursues or desires to obtain pain of itself, because it is pain, but because occasionally circumstances occur in which toil and pain can procure him some great pleasure. To take a trivial example, which of us ever undertakes laborious physical exercise, except to obtain some advantage from it? But who has any right to find fault with a man who chooses to enjoy a pleasure that has no annoying consequences, or one who avoids a pain that produces no resultant pleasure?\"\"\""
   ]
  },
  {
   "cell_type": "code",
   "execution_count": null,
   "id": "939bf885",
   "metadata": {},
   "outputs": [],
   "source": [
    "from collections import Counter\n",
    "\n",
    "def compte_mots(texte):\n",
    "    word = texte.split()\n",
    "    unique_list = list(set(word))\n",
    "    return (len(unique_list)), print(unique_list)\n",
    "\n",
    "\n",
    "def filter_frequencies(counter, min_threshold= 3):\n",
    "    filtered_counter = Counter ({\n",
    "        item: count for item, count in counter.items()\n",
    "        if count >= min_threshold\n",
    "    })\n",
    "\n",
    "    return filtered_counter\n",
    "\n",
    "test= \"Lorem Lorem Lorem ipsum dolor sit amet, consectetur adipiscing elit, sed do eiusmod \" \\\n",
    "\"tempor incididunt ut labore et dolore magna aliqua. Ut enim ad minim veniam, quis nostrud exercitation ullamco \" \\\n",
    "\"laboris nisi ut aliquip ex ea commodo consequat. Duis aute irure dolor in reprehenderit in voluptate \" \\\n",
    "\"velit esse cillum dolore eu fugiat nulla pariatur. Excepteur sint occaecat cupidatat non proident,\" \\\n",
    "\" sunt in culpa qui officia deserunt mollit anim id est laborum.\"\n",
    "word = []\n",
    "word = test.split()\n",
    "print(compte_mots(test))\n",
    "\n",
    "result = {}\n",
    "for x in word:\n",
    "    result[x] = result.get(x, 0)+1\n",
    "filtered = filter_frequencies(result,min_threshold=3)\n",
    "print (filtered)"
   ]
  },
  {
   "cell_type": "markdown",
   "id": "594c6d4e",
   "metadata": {},
   "source": [
    "## 2. Compter les îles (version simple)\n",
    "1. Setup :\n",
    "   - Générer une \"carte\" (= une grille) avec de l'eau (=0), de la terre (=1)\n",
    "2. Comptez le nombre d'îles :\n",
    "   - = 1 terre avec que de l'eau comme voisins proches (= horizontalement & verticalement,  diagonale ignorée)\n"
   ]
  },
  {
   "cell_type": "code",
   "execution_count": 65,
   "id": "0a1d76b7",
   "metadata": {},
   "outputs": [
    {
     "name": "stdout",
     "output_type": "stream",
     "text": [
      "[1, 1, 0, 1, 0, 1, 0, 1, 1, 0]\n",
      "[1, 0, 0, 1, 0, 0, 0, 0, 0, 1]\n",
      "[0, 0, 1, 1, 1, 0, 0, 0, 0, 0]\n",
      "[1, 1, 1, 1, 0, 1, 1, 0, 1, 1]\n",
      "[1, 0, 0, 1, 0, 1, 1, 1, 1, 0]\n",
      "[0, 0, 1, 0, 0, 1, 1, 0, 0, 1]\n",
      "[1, 0, 0, 1, 0, 1, 0, 1, 0, 0]\n",
      "[1, 0, 1, 1, 1, 1, 1, 1, 1, 0]\n",
      "[1, 0, 0, 0, 1, 1, 1, 1, 1, 1]\n",
      "[0, 0, 0, 0, 0, 0, 1, 1, 1, 1]\n"
     ]
    }
   ],
   "source": [
    "from random import randint\n",
    "for x in range(10):\n",
    "    line = [randint(0,1) for x in range (10)]\n",
    "    print(line)"
   ]
  },
  {
   "cell_type": "markdown",
   "id": "18f0339a",
   "metadata": {},
   "source": [
    "## 3. Pierre-Papier-Ciseau\n",
    "- Implémentez une fonction qui permet de jouer à \"Pierre-Papier-Ciseau\"\n",
    "    - 3 manches pour déterminer le gagnant\n",
    "    - implémenter le joueur adverse avec le module 'random'"
   ]
  },
  {
   "cell_type": "code",
   "execution_count": 14,
   "id": "9b1f64df",
   "metadata": {},
   "outputs": [
    {
     "name": "stdout",
     "output_type": "stream",
     "text": [
      "draw\n",
      "draw\n",
      "player 1 win this round\n",
      "player 2 win this round\n",
      "draw\n",
      "draw\n",
      "choix inexistant, Veuillez recommencer\n",
      "player 1 win this round\n",
      "player 1 win this round\n",
      "Joueur1 gagne la partie\n"
     ]
    }
   ],
   "source": [
    "from random import randint\n",
    "\n",
    "global_var1 = 0\n",
    "global_var2 = 0\n",
    "\n",
    "def jeu(pick_a,pick_b):\n",
    "    global global_var1, global_var2\n",
    "    if pick_a not in [1,2,3] or pick_b not in [1,2,3]:\n",
    "        print(\"choix inexistant, Veuillez recommencer\")\n",
    "        return\n",
    "    elif pick_a == 1 and pick_b == 2:\n",
    "        global_var2 +=1\n",
    "        print(\"player 2 win this round\")\n",
    "    elif pick_a == 1 and pick_b ==3:\n",
    "        global_var1 += 1\n",
    "        print(\"player 1 win this round\")\n",
    "    elif pick_a == 2 and pick_b ==1:\n",
    "        global_var1 += 1\n",
    "        print(\"player 1 win this round\")\n",
    "    elif pick_a == 2 and pick_b ==3:\n",
    "        global_var2 += 1\n",
    "        print(\"player 2 win this round\")\n",
    "    elif pick_a == 3 and pick_b ==2:\n",
    "        global_var1 += 1\n",
    "        print(\"player 1 win this round\")\n",
    "    elif pick_a == 3 and pick_b ==1:\n",
    "        global_var2 += 1\n",
    "        print(\"player 2 win this round\")\n",
    "    else:\n",
    "        print(\"draw\")\n",
    "\n",
    "def random_pick():\n",
    "    x =randint(1,3)\n",
    "    return x\n",
    "\n",
    "choix_b=0\n",
    "\n",
    "while global_var1 < 3 and global_var2 < 3:\n",
    "    choix_a = int(input(\"Player 1: Pick 1 for Rock, 2 for paper, 3 for scissor\"))\n",
    "    choix_b = random_pick()\n",
    "    jeu(choix_a,choix_b)\n",
    "\n",
    "\n",
    "if global_var1 ==3:\n",
    "    print(\"Joueur1 gagne la partie\")\n",
    "else:\n",
    "    print(\"Joueur2 gagne la partie\")"
   ]
  },
  {
   "cell_type": "markdown",
   "id": "4e7ce6ce",
   "metadata": {},
   "source": [
    "\n",
    "## 4. GROUP BY COUNT, SUM, AVG\n",
    "\n",
    "1. setup\n",
    "    - remplir un tableau avec 10 lignes et une structure \"dictionnaires dans une liste\" \n",
    "    ```python\n",
    "    [{\"A\":\"a\", \"B\":1}, {\"A\":\"b\", \"B\":2}, ...]\n",
    "    ```\n",
    "    - colonnes :\n",
    "        - \"A\" à remplir aléatoirement avec comme lettres possibles \"a\", \"b\", \"c\"\n",
    "        - \"B\" à remplir aléatoirement avec des entiers\n",
    "\n",
    "2. compter les occurrences\n",
    "    - pour la colonne \"A\" : on veut compter le nombre de fois qu'un élément est présent dans cette colonne, et ce, pour chaque élément distinct\n",
    "\n",
    "3. compter la somme et la moyenne des valeurs dans \"B\" pour la lettre \"a\" de la colonne \"A\"\n",
    "\n",
    "\n",
    "4. compter la somme et la moyenne des valeurs dans \"B\" pour chaque lettre de la colonne \"A\"\n",
    "\n",
    "5. faire la même chose pour la structure 'listes dans dictionnaire':\n",
    "    ```python\n",
    "        {\"A\":[\"a\",\"b\",...], \"B\":[1,2,...]}\n",
    "   ```\n"
   ]
  },
  {
   "cell_type": "code",
   "execution_count": null,
   "id": "1c89badd",
   "metadata": {},
   "outputs": [],
   "source": [
    "import random\n",
    "\n"
   ]
  }
 ],
 "metadata": {
  "kernelspec": {
   "display_name": "data_engineer",
   "language": "python",
   "name": "python3"
  },
  "language_info": {
   "codemirror_mode": {
    "name": "ipython",
    "version": 3
   },
   "file_extension": ".py",
   "mimetype": "text/x-python",
   "name": "python",
   "nbconvert_exporter": "python",
   "pygments_lexer": "ipython3",
   "version": "3.12.11"
  }
 },
 "nbformat": 4,
 "nbformat_minor": 5
}
