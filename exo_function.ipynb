{
 "cells": [
  {
   "cell_type": "code",
   "execution_count": 9,
   "id": "a9b6e3c2",
   "metadata": {},
   "outputs": [
    {
     "name": "stdout",
     "output_type": "stream",
     "text": [
      "9.5\n"
     ]
    }
   ],
   "source": [
    "\"\"\"\n",
    "Écrivez une fonction nommée calcul_moyenne() qui prend une liste de notes en entrée et retourne la moyenne de ces\n",
    "notes.\n",
    "\"\"\"\n",
    "\n",
    "def calcul_moyenne(nombres):\n",
    "    res=0\n",
    "    for x in nombres:\n",
    "        res+=x\n",
    "    return res /len(nombres)\n",
    "    \n",
    "list_nombre = {3, 16}\n",
    "\n",
    "print( calcul_moyenne(list_nombre))"
   ]
  },
  {
   "cell_type": "code",
   "execution_count": 18,
   "id": "e4ec1d83",
   "metadata": {},
   "outputs": [
    {
     "name": "stdout",
     "output_type": "stream",
     "text": [
      "0.34\n"
     ]
    }
   ],
   "source": [
    "\"\"\"\n",
    "Implémentez une fonction appelée recherche_min() qui prend une liste de nombres en entrée et retourne le plus petit de\n",
    "ces nombres.\n",
    "\"\"\"\n",
    "\n",
    "def recherche_min(nombres):\n",
    "    minimum = nombres[0]\n",
    "    for x in nombres:\n",
    "        if x< minimum:\n",
    "            minimum = x\n",
    "    return minimum\n",
    "list_nombre =[4,5,23,6,3,65,11,10, 0.34]\n",
    "\n",
    "print(recherche_min(list_nombre))\n"
   ]
  },
  {
   "cell_type": "code",
   "execution_count": 27,
   "id": "59ab132f",
   "metadata": {},
   "outputs": [
    {
     "name": "stdout",
     "output_type": "stream",
     "text": [
      "tanphan@gmail.com\n"
     ]
    }
   ],
   "source": [
    "\"\"\"\n",
    "Créez une fonction generer_email() qui prend un prénom et un nom en entrée, et retourne une adresse e-mail\n",
    "correspondante avec un domaine prédéfini.\n",
    "\"\"\"\n",
    "\n",
    "def generer_email(a , b):\n",
    "    c=str(a)+str(b)+\"@gmail.com\"\n",
    "    return c\n",
    "\n",
    "a= (input(\"entrez votre prénom\"))\n",
    "b= (input(\"entrez votre nom\"))\n",
    "\n",
    "\n",
    "print(generer_email(a,b))"
   ]
  },
  {
   "cell_type": "code",
   "execution_count": 31,
   "id": "822055cf",
   "metadata": {},
   "outputs": [
    {
     "name": "stdout",
     "output_type": "stream",
     "text": [
      "6\n"
     ]
    }
   ],
   "source": [
    "\"\"\"\n",
    "Écrivez une fonction compte_mots() qui prend une chaîne de caractères représentant une phrase en entrée et retourne\n",
    "le nombre de mots dans cette phrase.\n",
    "\"\"\"\n",
    "\n",
    "def compte_mots(phrase):\n",
    "    word = phrase.split()\n",
    "    return (len(word))\n",
    "\n",
    "test= \"je mange un sandwich au thon\"\n",
    "\n",
    "print(compte_mots(test))"
   ]
  },
  {
   "cell_type": "code",
   "execution_count": 34,
   "id": "0f83c794",
   "metadata": {},
   "outputs": [
    {
     "name": "stdout",
     "output_type": "stream",
     "text": [
      "24.8\n"
     ]
    }
   ],
   "source": [
    "\"\"\"\n",
    "Écrivez une fonction convertir_temperature() qui prend une température en degrés Celsius et la convertit en degrés\n",
    "Fahrenheit.\n",
    "\"\"\"\n",
    "\n",
    "def convertir_temperature(temp):\n",
    "    fahrenheit=(temp* 1.8) + 32\n",
    "    return fahrenheit\n",
    "\n",
    "print(convertir_temperature(-4)) \n"
   ]
  },
  {
   "cell_type": "code",
   "execution_count": 45,
   "id": "e4772c36",
   "metadata": {},
   "outputs": [
    {
     "name": "stdout",
     "output_type": "stream",
     "text": [
      "([4, 6, 10, 12, 14, 46, 88], [5, 23, 3, 65, 11, 15, 3], [0.34])\n"
     ]
    }
   ],
   "source": [
    "\"\"\"\n",
    "Créez une fonction nombres_pairs_impairs() qui prend une liste de nombres en entrée et retourne deux listes\n",
    "distinctes, l'une contenant les nombres pairs et l'autre les nombres impairs\n",
    "\"\"\"\n",
    "\n",
    "def nombres_pairs_impairs(list_nombre):\n",
    "    liste_pair = []\n",
    "    liste_impair = []\n",
    "    autre = []\n",
    "    for x in list_nombre:\n",
    "        if x%2.0==0:\n",
    "            liste_pair.append(x)\n",
    "        elif x%2 ==1:\n",
    "            liste_impair.append(x)\n",
    "        else:\n",
    "            autre.append(x)\n",
    "    return liste_pair, liste_impair, autre\n",
    "\n",
    "list_nombre =[4,5,23,6,3,65,11,10, 0.34, 12, 14, 15,3, 46, 88]\n",
    "\n",
    "print(nombres_pairs_impairs(list_nombre))\n"
   ]
  },
  {
   "cell_type": "code",
   "execution_count": null,
   "id": "8ced0cfb",
   "metadata": {},
   "outputs": [
    {
     "name": "stdout",
     "output_type": "stream",
     "text": [
      "yttrerewq\n"
     ]
    }
   ],
   "source": [
    "\"\"\"\n",
    "Implémentez une fonction inverser_chaine() qui prend une chaîne de caractères en entrée et retourne cette chaîne\n",
    "inversée \n",
    "\"\"\"\n",
    "\n",
    "def inverser_chaine(mots):\n",
    "    return mots [::-1]\n",
    "\n",
    "mo=\"qwerertty\"\n",
    "print(inverser_chaine(mo))"
   ]
  },
  {
   "cell_type": "code",
   "execution_count": null,
   "id": "21c404b9",
   "metadata": {},
   "outputs": [
    {
     "ename": "SyntaxError",
     "evalue": "incomplete input (969763094.py, line 1)",
     "output_type": "error",
     "traceback": [
      "  \u001b[36mCell\u001b[39m\u001b[36m \u001b[39m\u001b[32mIn[55]\u001b[39m\u001b[32m, line 1\u001b[39m\n\u001b[31m    \u001b[39m\u001b[31m\"\"\"\u001b[39m\n    ^\n\u001b[31mSyntaxError\u001b[39m\u001b[31m:\u001b[39m incomplete input\n"
     ]
    }
   ],
   "source": [
    "\"\"\"\n",
    "Créez une fonction valider_mot_de_passe() qui prend un mot de passe en entrée et vérifie s'il répond à certains\n",
    "critères de complexité (longueur minimale, présence de chiffres, de lettres majuscules et minuscules, de caractères\n",
    "spéciaux, etc.). La fonction devrait renvoyer True si le mot de passe est valide et False sinon.\n",
    "\"\"\"\n",
    "\n"
   ]
  },
  {
   "cell_type": "code",
   "execution_count": null,
   "id": "e0044429",
   "metadata": {},
   "outputs": [],
   "source": []
  }
 ],
 "metadata": {
  "kernelspec": {
   "display_name": "data_engineer",
   "language": "python",
   "name": "python3"
  },
  "language_info": {
   "codemirror_mode": {
    "name": "ipython",
    "version": 3
   },
   "file_extension": ".py",
   "mimetype": "text/x-python",
   "name": "python",
   "nbconvert_exporter": "python",
   "pygments_lexer": "ipython3",
   "version": "3.12.11"
  }
 },
 "nbformat": 4,
 "nbformat_minor": 5
}
